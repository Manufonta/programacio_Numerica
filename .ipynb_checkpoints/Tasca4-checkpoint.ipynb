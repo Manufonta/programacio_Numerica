{
 "cells": [
  {
   "cell_type": "markdown",
   "metadata": {},
   "source": [
    "# Tasca 4: Programación numérica"
   ]
  },
  {
   "cell_type": "code",
   "execution_count": 1,
   "metadata": {},
   "outputs": [],
   "source": [
    "import numpy as np\n",
    "from numpy import random"
   ]
  },
  {
   "cell_type": "markdown",
   "metadata": {},
   "source": [
    "## Ejercicio 1\n",
    "Crea una función que dado un array 1D haga un resumen estadístico de los datos. Si detecta que tiene más de una dimensión, debe mostrar un mensage de error."
   ]
  },
  {
   "cell_type": "code",
   "execution_count": 2,
   "metadata": {},
   "outputs": [],
   "source": [
    "def estadistica1D (arr):\n",
    "    if arr.ndim > 1:\n",
    "        print (\"Error: El array debe ser de 1 dimensión\")\n",
    "    else:\n",
    "        print (\"Media: \",arr.mean())\n",
    "        print (\"Mediana: \", np.median(arr))\n",
    "        print (\"Desv est: \", np.std(arr))\n",
    "        print (\"Max: \", arr.max())\n",
    "        print (\"Min: \", arr.min())\n",
    "        print (\"Número de observaciones: \", len(arr))\n",
    "        print (\"Q 25: \", np.percentile(arr, 25))\n",
    "        print (\"Q 75: \", np.percentile(arr, 75))\n"
   ]
  },
  {
   "cell_type": "code",
   "execution_count": 3,
   "metadata": {},
   "outputs": [
    {
     "name": "stdout",
     "output_type": "stream",
     "text": [
      "Media:  769272.0\n",
      "Mediana:  4.0\n",
      "Desv est:  2664681.650292236\n",
      "Max:  10000000.0\n",
      "Min:  2.0\n",
      "Número de observaciones:  13\n",
      "Q 25:  3.0\n",
      "Q 75:  7.0\n"
     ]
    }
   ],
   "source": [
    "arr = np.array ([4,3,5,439,4,3,2,6,56,3,4,7,10e6])\n",
    "estadistica1D(arr)"
   ]
  },
  {
   "cell_type": "markdown",
   "metadata": {},
   "source": [
    "## Ejercicio 2\n",
    "Crea una función que genere un cuadrado NxN de números aleatorios entre 0 y 100"
   ]
  },
  {
   "cell_type": "code",
   "execution_count": 4,
   "metadata": {},
   "outputs": [],
   "source": [
    "def cuadrado_aleatorio (n):\n",
    "    print (random.randint (100, size = (n, n)))"
   ]
  },
  {
   "cell_type": "code",
   "execution_count": 5,
   "metadata": {},
   "outputs": [
    {
     "name": "stdout",
     "output_type": "stream",
     "text": [
      "[[95 97 81 35 94 27 74 45 76 87 25 46]\n",
      " [19 82 28 90 57 47 46 90 88 21 81 83]\n",
      " [35 13 96 32 90  6 40 93 23 35 50 69]\n",
      " [85 88 57 60 44 40 50 22 87 28 63 23]\n",
      " [95 27  4 62 72 74  8 98 43 10  6 83]\n",
      " [27 69  9 11 55  4  8 11 82 59 72 34]\n",
      " [84  8 55 44 22 75 24 97 61  5 78 84]\n",
      " [73 69 46 52 47 99 21 87 90 29 63 81]\n",
      " [15 46 60 25 37 87  1 47 61 28 91 31]\n",
      " [63 66 47 55  6 43 77 80 37 96 91 51]\n",
      " [20 32 61 55 35 43  7 89 38 88 22 74]\n",
      " [ 1 88 25 35 78 29 60 13 97 47 35 16]]\n"
     ]
    }
   ],
   "source": [
    "cuadrado_aleatorio (12)"
   ]
  },
  {
   "cell_type": "markdown",
   "metadata": {},
   "source": [
    "## Ejercicio 3\n",
    "Crea una función que dada una tabla de dos dimensiones te calcule los totales por fila y totales por columna"
   ]
  },
  {
   "cell_type": "code",
   "execution_count": 10,
   "metadata": {},
   "outputs": [],
   "source": [
    "def totales (taula):\n",
    "    if taula.ndim != 2:\n",
    "        print (\"Debes introducir una array de 2 dimensiones\")\n",
    "    else:\n",
    "        filas = np.sum (taula, axis = 1)\n",
    "        col = np.sum (taula, axis = 0)\n",
    "        print (\"Total por filas: \", filas)\n",
    "        print (\"Total por columnas: \", col)"
   ]
  },
  {
   "cell_type": "code",
   "execution_count": 14,
   "metadata": {},
   "outputs": [
    {
     "name": "stdout",
     "output_type": "stream",
     "text": [
      "Total por filas:  [ 9 15]\n",
      "Total por columnas:  [ 7  7 10]\n"
     ]
    }
   ],
   "source": [
    "prueba = np.array ([[2,3,4], [5,4,6]])\n",
    "totales (prueba)\n"
   ]
  },
  {
   "cell_type": "markdown",
   "metadata": {},
   "source": [
    "## Ejercicio 4\n",
    "Implementa manualmente una función que calcule el coeficiente de correlación. Informate sobre sus usos e interpretación."
   ]
  },
  {
   "cell_type": "markdown",
   "metadata": {},
   "source": [
    "Para hacer las pruebas de correlación, creo dos vectores aleatorios:"
   ]
  },
  {
   "cell_type": "code",
   "execution_count": 108,
   "metadata": {},
   "outputs": [
    {
     "name": "stdout",
     "output_type": "stream",
     "text": [
      "[15 71 36 69 78 94 56  3 63 92 97 93  6 32 60 31 24 83 92  6 61  5 10 22\n",
      " 36  0 99 77 64 15 38 73 65 48 14 32 62  5 23 67  7  2 36 54 93 29 26 79\n",
      " 38 70]\n",
      "[2 5 0 6 5 4 1 9 8 5 4 6 8 4 8 0 1 0 2 9 2 2 6 8 1 8 6 7 8 3 0 9 8 8 0 3 9\n",
      " 3 6 8 5 5 7 4 8 0 5 4 1 3]\n"
     ]
    }
   ],
   "source": [
    "v1 = random.randint (100, size = (50))\n",
    "v2 = random.randint (10, size = (50))\n",
    "print (v1)\n",
    "print (v2)"
   ]
  },
  {
   "cell_type": "markdown",
   "metadata": {},
   "source": [
    "Numpy tiene su propia función para calcular el coef de correlación, que devuelve una matriz:"
   ]
  },
  {
   "cell_type": "code",
   "execution_count": 109,
   "metadata": {},
   "outputs": [
    {
     "name": "stdout",
     "output_type": "stream",
     "text": [
      "[[1.         0.09360581]\n",
      " [0.09360581 1.        ]]\n"
     ]
    }
   ],
   "source": [
    "c_np = np.corrcoef(v1,v2)\n",
    "print (c_np)"
   ]
  },
  {
   "cell_type": "markdown",
   "metadata": {},
   "source": [
    "Partiendo de cero, también podemos hacer una función que calcule la correlación:"
   ]
  },
  {
   "cell_type": "code",
   "execution_count": 116,
   "metadata": {},
   "outputs": [],
   "source": [
    "def correlacion (a, b):\n",
    "    if len(a) != len(b):\n",
    "        print ('Error: los vectores de entrada deben tener la misma dimensión')\n",
    "    else:\n",
    "        cov = np.sum ([(a-np.mean(a))*(b-np.mean(b))])/(len(a)-1)\n",
    "        std_a = (np.sum((a-np.mean(a))**2)/(len(a)-1))**(1/2)\n",
    "        std_b = (np.sum((b-np.mean(b))**2)/(len(b)-1))**(1/2)\n",
    "        print(cov/std_a/std_b)\n",
    "        "
   ]
  },
  {
   "cell_type": "code",
   "execution_count": 117,
   "metadata": {},
   "outputs": [
    {
     "name": "stdout",
     "output_type": "stream",
     "text": [
      "0.09360581186626893\n"
     ]
    }
   ],
   "source": [
    "correlacion (v1, v2)"
   ]
  },
  {
   "cell_type": "markdown",
   "metadata": {},
   "source": [
    "En este caso, al introducir valores aleatorios, la correlación siempre sale cercana a cero.\n",
    "Es intesante comprobar cómo al aumentar la longitud de los vectores, la oscilación es menor y el valor de correlación más cercano a cero."
   ]
  }
 ],
 "metadata": {
  "kernelspec": {
   "display_name": "Python 3",
   "language": "python",
   "name": "python3"
  },
  "language_info": {
   "codemirror_mode": {
    "name": "ipython",
    "version": 3
   },
   "file_extension": ".py",
   "mimetype": "text/x-python",
   "name": "python",
   "nbconvert_exporter": "python",
   "pygments_lexer": "ipython3",
   "version": "3.8.5"
  }
 },
 "nbformat": 4,
 "nbformat_minor": 4
}
